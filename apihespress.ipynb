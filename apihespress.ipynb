{
 "cells": [
  {
   "cell_type": "code",
   "execution_count": 1,
   "id": "8c39b4c5",
   "metadata": {},
   "outputs": [],
   "source": [
    "from flask import Flask, request, render_template\n",
    "import json\n",
    "import bson\n",
    "import datetime\n",
    "import requests\n",
    "from locale import setlocale, LC_ALL\n",
    "from pymongo import MongoClient\n",
    "from bson.json_util import dumps"
   ]
  },
  {
   "cell_type": "code",
   "execution_count": 2,
   "id": "b432d709",
   "metadata": {},
   "outputs": [],
   "source": [
    "app = Flask(__name__)"
   ]
  },
  {
   "cell_type": "code",
   "execution_count": 3,
   "id": "d348e98c",
   "metadata": {
    "scrolled": true
   },
   "outputs": [],
   "source": [
    "#- Connexion au mongoDB\n",
    "try:\n",
    "    #- Récupérer une instance de la connexion au mongoDB\n",
    "    connection = MongoClient(\"mongodb://localhost:27017\")\n",
    "    #- Récupérer le nom de notre base de données\n",
    "    database = connection['sentiments']\n",
    "    #- Récupérer le nom de la collection\n",
    "    collection_comments = database['comments']\n",
    "except:\n",
    "    print(\"[Error]: Failed to connect to database..\")\n",
    "    connection = None"
   ]
  },
  {
   "cell_type": "code",
   "execution_count": 4,
   "id": "e7ad8e72",
   "metadata": {},
   "outputs": [],
   "source": [
    "#- Fonctions\n",
    "def get_comment():\n",
    "    collec_agreg = collection_comments.aggregate([\n",
    "        { \"$sample\": { \"size\": 1 } },\n",
    "        { \"$limit\": 1 }\n",
    "    ])\n",
    "    random_comment = collec_agreg.next()\n",
    "    return random_comment\n",
    "\n",
    "class JsonEncoder(json.JSONEncoder):\n",
    "    def default(self, obj):\n",
    "        if isinstance(obj, datetime.datetime):\n",
    "            return obj.isoformat()                # Format dates as ISO strings\n",
    "        elif isinstance(obj, bson.Binary) and obj.subtype == bson.binary.UUID_SUBTYPE:\n",
    "            return obj.as_uuid()                  # Format binary data as UUIDs\n",
    "        elif hasattr(obj, '__str__'):\n",
    "            return str(obj)                       # This will handle ObjectIds\n",
    "\n",
    "        return super(JsonEncoder, self).default(obj)\n",
    "\n",
    "#- Flask routing\n",
    "@app.route(\"/api\")\n",
    "def index():\n",
    "    #- Récupérer un commentaire au hasard\n",
    "    comment_hespress = get_comment()\n",
    "    #- Return the comment as json result\n",
    "    return json.dumps(comment_hespress, cls = JsonEncoder, indent = 4, ensure_ascii = False)"
   ]
  },
  {
   "cell_type": "code",
   "execution_count": null,
   "id": "a68c0899",
   "metadata": {},
   "outputs": [],
   "source": [
    "if __name__ == \"__main__\":\n",
    "    app.run()"
   ]
  },
  {
   "cell_type": "code",
   "execution_count": null,
   "id": "f3c1260c",
   "metadata": {},
   "outputs": [],
   "source": []
  },
  {
   "cell_type": "code",
   "execution_count": null,
   "id": "680f76f0",
   "metadata": {},
   "outputs": [],
   "source": []
  }
 ],
 "metadata": {
  "kernelspec": {
   "display_name": "Python 3 (ipykernel)",
   "language": "python",
   "name": "python3"
  },
  "language_info": {
   "codemirror_mode": {
    "name": "ipython",
    "version": 3
   },
   "file_extension": ".py",
   "mimetype": "text/x-python",
   "name": "python",
   "nbconvert_exporter": "python",
   "pygments_lexer": "ipython3",
   "version": "3.9.13"
  }
 },
 "nbformat": 4,
 "nbformat_minor": 5
}
